{
 "cells": [
  {
   "cell_type": "code",
   "execution_count": 1,
   "metadata": {
    "collapsed": true,
    "ExecuteTime": {
     "end_time": "2023-05-11T16:39:52.204722900Z",
     "start_time": "2023-05-11T16:39:50.226071Z"
    }
   },
   "outputs": [],
   "source": [
    "# This Python 3 environment comes with many helpful analytics libraries installed\n",
    "# It is defined by the kaggle/python Docker image: https://github.com/kaggle/docker-python\n",
    "# For example, here's several helpful packages to load\n",
    "\n",
    "import numpy as np  # linear algebra\n",
    "import pandas as pd  # data processing, CSV file I/O (e.g. pd.read_csv)\n",
    "\n",
    "# Input data files are available in the read-only \"../input/\" directory\n",
    "# For example, running this (by clicking run or pressing Shift+Enter) will list all files under the input directory\n",
    "\n",
    "import os\n",
    "\n",
    "# You can write up to 20GB to the current directory (/kaggle/working/) that gets preserved as output when you create a version using \"Save & Run All\"\n",
    "# You can also write temporary files to /kaggle/temp/, but they won't be saved outside of the current session"
   ]
  },
  {
   "cell_type": "code",
   "execution_count": 1,
   "outputs": [
    {
     "name": "stderr",
     "output_type": "stream",
     "text": [
      "\u001B[34m\u001B[1mwandb\u001B[0m: Currently logged in as: \u001B[33mshujakuin\u001B[0m. Use \u001B[1m`wandb login --relogin`\u001B[0m to force relogin\n"
     ]
    },
    {
     "data": {
      "text/plain": "<IPython.core.display.HTML object>",
      "text/html": "Tracking run with wandb version 0.15.2"
     },
     "metadata": {},
     "output_type": "display_data"
    },
    {
     "data": {
      "text/plain": "<IPython.core.display.HTML object>",
      "text/html": "Run data is saved locally in <code>F:\\pythonProject\\IPUS2022-2023\\wandb\\run-20230512_004610-m8ouy3bn</code>"
     },
     "metadata": {},
     "output_type": "display_data"
    },
    {
     "data": {
      "text/plain": "<IPython.core.display.HTML object>",
      "text/html": "Syncing run <strong><a href='https://wandb.ai/shujakuin/opt/runs/m8ouy3bn' target=\"_blank\">opt-GD-[0, 0, 0]</a></strong> to <a href='https://wandb.ai/shujakuin/opt' target=\"_blank\">Weights & Biases</a> (<a href='https://wandb.me/run' target=\"_blank\">docs</a>)<br/>"
     },
     "metadata": {},
     "output_type": "display_data"
    },
    {
     "data": {
      "text/plain": "<IPython.core.display.HTML object>",
      "text/html": " View project at <a href='https://wandb.ai/shujakuin/opt' target=\"_blank\">https://wandb.ai/shujakuin/opt</a>"
     },
     "metadata": {},
     "output_type": "display_data"
    },
    {
     "data": {
      "text/plain": "<IPython.core.display.HTML object>",
      "text/html": " View run at <a href='https://wandb.ai/shujakuin/opt/runs/m8ouy3bn' target=\"_blank\">https://wandb.ai/shujakuin/opt/runs/m8ouy3bn</a>"
     },
     "metadata": {},
     "output_type": "display_data"
    },
    {
     "name": "stderr",
     "output_type": "stream",
     "text": [
      "  0%|          | 0/300000 [00:00<?, ?it/s]\n"
     ]
    },
    {
     "ename": "TypeError",
     "evalue": "Optimizer.log() missing 1 required positional argument: 'delta_value'",
     "output_type": "error",
     "traceback": [
      "\u001B[1;31m---------------------------------------------------------------------------\u001B[0m",
      "\u001B[1;31mTypeError\u001B[0m                                 Traceback (most recent call last)",
      "Cell \u001B[1;32mIn[1], line 41\u001B[0m\n\u001B[0;32m     39\u001B[0m     run \u001B[38;5;241m=\u001B[39m wandb_init()\n\u001B[0;32m     40\u001B[0m g \u001B[38;5;241m=\u001B[39m \u001B[38;5;28meval\u001B[39m(CFG\u001B[38;5;241m.\u001B[39mmodel)(CFG, beale_function, max_iter\u001B[38;5;241m=\u001B[39mCFG\u001B[38;5;241m.\u001B[39mmax_iter, lr\u001B[38;5;241m=\u001B[39mCFG\u001B[38;5;241m.\u001B[39mlr)\n\u001B[1;32m---> 41\u001B[0m \u001B[43mg\u001B[49m\u001B[43m(\u001B[49m\u001B[43mtorch\u001B[49m\u001B[38;5;241;43m.\u001B[39;49m\u001B[43mTensor\u001B[49m\u001B[43m(\u001B[49m\u001B[43mCFG\u001B[49m\u001B[38;5;241;43m.\u001B[39;49m\u001B[43mstart_point\u001B[49m\u001B[43m)\u001B[49m\u001B[43m)\u001B[49m\n\u001B[0;32m     42\u001B[0m \u001B[38;5;28;01mif\u001B[39;00m CFG\u001B[38;5;241m.\u001B[39mwandb:\n\u001B[0;32m     43\u001B[0m     run\u001B[38;5;241m.\u001B[39mfinish()\n",
      "File \u001B[1;32mF:\\pythonProject\\IPUS2022-2023\\opt.py:63\u001B[0m, in \u001B[0;36mOptimizer.__call__\u001B[1;34m(self, x, plot)\u001B[0m\n\u001B[0;32m     62\u001B[0m \u001B[38;5;28;01mdef\u001B[39;00m \u001B[38;5;21m__call__\u001B[39m(\u001B[38;5;28mself\u001B[39m, x, plot\u001B[38;5;241m=\u001B[39m\u001B[38;5;28;01mTrue\u001B[39;00m):\n\u001B[1;32m---> 63\u001B[0m     x_, points \u001B[38;5;241m=\u001B[39m \u001B[38;5;28;43mself\u001B[39;49m\u001B[38;5;241;43m.\u001B[39;49m\u001B[43mcal\u001B[49m\u001B[43m(\u001B[49m\u001B[43mx\u001B[49m\u001B[43m)\u001B[49m\n\u001B[0;32m     64\u001B[0m     \u001B[38;5;28;01mif\u001B[39;00m plot:\n\u001B[0;32m     65\u001B[0m         x \u001B[38;5;241m=\u001B[39m x\u001B[38;5;241m.\u001B[39mdetach()\u001B[38;5;241m.\u001B[39mnumpy()\n",
      "File \u001B[1;32mF:\\pythonProject\\IPUS2022-2023\\opt.py:102\u001B[0m, in \u001B[0;36mGD.cal\u001B[1;34m(self, x)\u001B[0m\n\u001B[0;32m    100\u001B[0m     x \u001B[38;5;241m=\u001B[39m x \u001B[38;5;241m-\u001B[39m delta\n\u001B[0;32m    101\u001B[0m     points\u001B[38;5;241m.\u001B[39mappend(\u001B[38;5;28mself\u001B[39m\u001B[38;5;241m.\u001B[39mpoint(x)[\u001B[38;5;241m1\u001B[39m:])\n\u001B[1;32m--> 102\u001B[0m     \u001B[38;5;28;43mself\u001B[39;49m\u001B[38;5;241;43m.\u001B[39;49m\u001B[43mlog\u001B[49m\u001B[43m(\u001B[49m\u001B[43m_\u001B[49m\u001B[43m,\u001B[49m\u001B[43m \u001B[49m\u001B[43mx\u001B[49m\u001B[43m)\u001B[49m\n\u001B[0;32m    104\u001B[0m T2 \u001B[38;5;241m=\u001B[39m time\u001B[38;5;241m.\u001B[39mtime_ns()\n\u001B[0;32m    105\u001B[0m \u001B[38;5;28;01mif\u001B[39;00m \u001B[38;5;28mself\u001B[39m\u001B[38;5;241m.\u001B[39mCFG\u001B[38;5;241m.\u001B[39mwandb:\n",
      "\u001B[1;31mTypeError\u001B[0m: Optimizer.log() missing 1 required positional argument: 'delta_value'"
     ]
    }
   ],
   "source": [
    "from easydict import EasyDict\n",
    "from opt import *\n",
    "import itertools\n",
    "\n",
    "\n",
    "def beale_function(x: torch.tensor):\n",
    "    return (1.5 - x[1] + x[1] * x[2]) ** 2 + (2.25 - x[1] + x[1] * x[2] ** 2) ** 2 + (\n",
    "            2.625 - x[1] + x[1] * x[2] ** 3) ** 2\n",
    "\n",
    "\n",
    "for start_point, model in itertools.product(\n",
    "        [(0, 0, 0), (0, 1, 0), (0, 1, 1), (0, 1, 2), (0, 2, 1), (0, 3, 1), (0, 3, 3), (0, 3, 5), (0, 3, 2)],\n",
    "        [\"GD\", \"Adam\"]):\n",
    "    CFG = EasyDict()\n",
    "    CFG.start_point = start_point\n",
    "    CFG.device = torch.device('cuda' if torch.cuda.is_available() else 'cpu')\n",
    "    CFG.model = \"GD\"\n",
    "    CFG.project = \"opt\"\n",
    "    CFG.lr = 1e-3\n",
    "    CFG.wandb = True\n",
    "    CFG.max_iter = int(3 * 1e5)\n",
    "    CFG.tags = [\"v0\"]\n",
    "    if CFG.wandb:\n",
    "        # from kaggle_secrets import UserSecretsClient\n",
    "        #\n",
    "        # user_secrets = UserSecretsClient()\n",
    "        # secret_value_0 = user_secrets.get_secret(\"WANDB\")\n",
    "        # wandb.login(key=secret_value_0)\n",
    "        def wandb_init():\n",
    "            run = wandb.init(\n",
    "                project=CFG.project,\n",
    "                name=f\"{CFG.project}-{CFG.model}-{CFG.start_point}\",\n",
    "                config={k: v for k, v in CFG.items() if '__' not in k},\n",
    "                tags=CFG.tags,\n",
    "                save_code=True\n",
    "            )\n",
    "            return run\n",
    "    if CFG.wandb:\n",
    "        run = wandb_init()\n",
    "    g = eval(CFG.model)(CFG, beale_function, max_iter=CFG.max_iter, lr=CFG.lr)\n",
    "    g(torch.Tensor(CFG.start_point))\n",
    "    if CFG.wandb:\n",
    "        run.finish()"
   ],
   "metadata": {
    "collapsed": false
   }
  },
  {
   "cell_type": "code",
   "execution_count": null,
   "outputs": [],
   "source": [],
   "metadata": {
    "collapsed": false
   }
  }
 ],
 "metadata": {
  "kernelspec": {
   "display_name": "Python 3",
   "language": "python",
   "name": "python3"
  },
  "language_info": {
   "codemirror_mode": {
    "name": "ipython",
    "version": 2
   },
   "file_extension": ".py",
   "mimetype": "text/x-python",
   "name": "python",
   "nbconvert_exporter": "python",
   "pygments_lexer": "ipython2",
   "version": "2.7.6"
  }
 },
 "nbformat": 4,
 "nbformat_minor": 0
}
