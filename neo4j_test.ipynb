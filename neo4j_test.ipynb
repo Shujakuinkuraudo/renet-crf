{
 "cells": [
  {
   "cell_type": "code",
   "execution_count": 1,
   "metadata": {
    "collapsed": true,
    "ExecuteTime": {
     "end_time": "2023-05-21T12:32:55.582854300Z",
     "start_time": "2023-05-21T12:32:45.693300900Z"
    }
   },
   "outputs": [
    {
     "name": "stdout",
     "output_type": "stream",
     "text": [
      "Looking in indexes: https://pypi.tuna.tsinghua.edu.cn/simple\n",
      "Collecting py2neo\n",
      "  Downloading https://pypi.tuna.tsinghua.edu.cn/packages/c7/76/8615d736888db5793cef66165ca45807188c41031bfbc2533f84eab74e20/py2neo-2021.2.3-py2.py3-none-any.whl (177 kB)\n",
      "     ---------------------------------------- 0.0/177.0 kB ? eta -:--:--\n",
      "     ------ --------------------------------- 30.7/177.0 kB ? eta -:--:--\n",
      "     -------- ---------------------------- 41.0/177.0 kB 487.6 kB/s eta 0:00:01\n",
      "     -------- ---------------------------- 41.0/177.0 kB 487.6 kB/s eta 0:00:01\n",
      "     -------- ---------------------------- 41.0/177.0 kB 487.6 kB/s eta 0:00:01\n",
      "     -------- ---------------------------- 41.0/177.0 kB 487.6 kB/s eta 0:00:01\n",
      "     ------------------- ----------------- 92.2/177.0 kB 327.7 kB/s eta 0:00:01\n",
      "     ------------------- ----------------- 92.2/177.0 kB 327.7 kB/s eta 0:00:01\n",
      "     ------------------------------- ---- 153.6/177.0 kB 416.7 kB/s eta 0:00:01\n",
      "     ------------------------------------ 177.0/177.0 kB 410.8 kB/s eta 0:00:00\n",
      "Requirement already satisfied: packaging in f:\\pythonproject\\cp310\\venv\\lib\\site-packages (from py2neo) (23.0)\n",
      "Collecting interchange~=2021.0.4\n",
      "  Downloading https://pypi.tuna.tsinghua.edu.cn/packages/88/bd/abc58e5a36a28e0e55501f4bc15df74e430f399375b14b83f4ce22a257b4/interchange-2021.0.4-py2.py3-none-any.whl (28 kB)\n",
      "Collecting pansi>=2020.7.3\n",
      "  Downloading https://pypi.tuna.tsinghua.edu.cn/packages/0b/15/7972e08b7ec14a8b10d5ff206c644d4478906c909c134123ed7e6bd16724/pansi-2020.7.3-py2.py3-none-any.whl (10 kB)\n",
      "Requirement already satisfied: six>=1.15.0 in f:\\pythonproject\\cp310\\venv\\lib\\site-packages (from py2neo) (1.16.0)\n",
      "Requirement already satisfied: urllib3 in f:\\pythonproject\\cp310\\venv\\lib\\site-packages (from py2neo) (1.26.13)\n",
      "Requirement already satisfied: certifi in f:\\pythonproject\\cp310\\venv\\lib\\site-packages (from py2neo) (2022.12.7)\n",
      "Collecting monotonic\n",
      "  Downloading https://pypi.tuna.tsinghua.edu.cn/packages/9a/67/7e8406a29b6c45be7af7740456f7f37025f0506ae2e05fb9009a53946860/monotonic-1.6-py2.py3-none-any.whl (8.2 kB)\n",
      "Requirement already satisfied: pygments>=2.0.0 in f:\\pythonproject\\cp310\\venv\\lib\\site-packages (from py2neo) (2.14.0)\n",
      "Requirement already satisfied: pytz in f:\\pythonproject\\cp310\\venv\\lib\\site-packages (from interchange~=2021.0.4->py2neo) (2022.7.1)\n",
      "Installing collected packages: monotonic, pansi, interchange, py2neo\n",
      "Successfully installed interchange-2021.0.4 monotonic-1.6 pansi-2020.7.3 py2neo-2021.2.3\n"
     ]
    },
    {
     "name": "stderr",
     "output_type": "stream",
     "text": [
      "\n",
      "[notice] A new release of pip is available: 23.0.1 -> 23.1.2\n",
      "[notice] To update, run: python.exe -m pip install --upgrade pip\n"
     ]
    }
   ],
   "source": [
    "!pip install py2neo"
   ]
  },
  {
   "cell_type": "code",
   "execution_count": 1,
   "outputs": [],
   "source": [
    "from py2neo import Node, Relationship, Graph, NodeMatcher, RelationshipMatcher  #导入我们需要的头文件\n",
    "\n",
    "# 连接neo4j 数据库\n",
    "test_graph = Graph('http://localhost:7474', auth=('neo4j', '12345678'), name='neo4j')"
   ],
   "metadata": {
    "collapsed": false,
    "ExecuteTime": {
     "end_time": "2023-06-01T13:40:05.155387500Z",
     "start_time": "2023-06-01T13:39:59.941525400Z"
    }
   }
  },
  {
   "cell_type": "code",
   "execution_count": 3,
   "outputs": [
    {
     "data": {
      "text/plain": "Graph('http://localhost:7474', name='neo4j')"
     },
     "execution_count": 3,
     "metadata": {},
     "output_type": "execute_result"
    }
   ],
   "source": [
    "test_graph"
   ],
   "metadata": {
    "collapsed": false,
    "ExecuteTime": {
     "end_time": "2023-05-21T12:33:29.734447100Z",
     "start_time": "2023-05-21T12:33:29.659995200Z"
    }
   }
  },
  {
   "cell_type": "code",
   "execution_count": 4,
   "outputs": [],
   "source": [
    "A = Node(\"概念\", name=\"向量\", chapter=1, ID=100)\n",
    "B = Node(\"属性\", name=\"向量叉积\", chapter=2, ID=99)\n",
    "test_graph.create(A)\n",
    "test_graph.create(B)"
   ],
   "metadata": {
    "collapsed": false,
    "ExecuteTime": {
     "end_time": "2023-05-21T12:33:37.907992200Z",
     "start_time": "2023-05-21T12:33:37.230449900Z"
    }
   }
  },
  {
   "cell_type": "code",
   "execution_count": 5,
   "outputs": [
    {
     "data": {
      "text/plain": "[Node('概念', ID=100, chapter=1, name='向量')]"
     },
     "execution_count": 5,
     "metadata": {},
     "output_type": "execute_result"
    }
   ],
   "source": [
    "test_graph.nodes.match('概念').all()"
   ],
   "metadata": {
    "collapsed": false,
    "ExecuteTime": {
     "end_time": "2023-05-21T12:34:22.363799300Z",
     "start_time": "2023-05-21T12:34:18.187515900Z"
    }
   }
  },
  {
   "cell_type": "code",
   "execution_count": null,
   "outputs": [],
   "source": [],
   "metadata": {
    "collapsed": false
   }
  }
 ],
 "metadata": {
  "kernelspec": {
   "display_name": "Python 3",
   "language": "python",
   "name": "python3"
  },
  "language_info": {
   "codemirror_mode": {
    "name": "ipython",
    "version": 2
   },
   "file_extension": ".py",
   "mimetype": "text/x-python",
   "name": "python",
   "nbconvert_exporter": "python",
   "pygments_lexer": "ipython2",
   "version": "2.7.6"
  }
 },
 "nbformat": 4,
 "nbformat_minor": 0
}
